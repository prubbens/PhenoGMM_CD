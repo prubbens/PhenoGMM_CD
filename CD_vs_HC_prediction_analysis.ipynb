{
 "cells": [
  {
   "cell_type": "markdown",
   "metadata": {},
   "source": [
    "Import necessary packages: "
   ]
  },
  {
   "cell_type": "code",
   "execution_count": 1,
   "metadata": {},
   "outputs": [],
   "source": [
    "import matplotlib.pyplot as plt\n",
    "import numpy as np\n",
    "import pandas as pd\n",
    "import seaborn as sns\n",
    "import textwrap\n",
    "\n",
    "from itertools import product\n",
    "from os import listdir\n",
    "from scipy import stats\n",
    "from sklearn.model_selection import StratifiedKFold\n",
    "from sklearn.preprocessing import LabelEncoder\n",
    "from statannot import add_stat_annotation\n",
    "from statsmodels.stats.multitest import multipletests\n",
    "\n",
    "from functions_rw import calc_D0, calc_D1, calc_D2\n",
    "from functions_rw import concat_df\n",
    "from functions_rw import get_gmm_fitted, get_fcfp_gmm_rw\n",
    "from functions_rw import get_nonzero_features\n",
    "from functions_rw import get_trained_RF\n",
    "from functions_rw import transform"
   ]
  },
  {
   "cell_type": "markdown",
   "metadata": {},
   "source": [
    "Initialize a number of variables: "
   ]
  },
  {
   "cell_type": "code",
   "execution_count": 2,
   "metadata": {},
   "outputs": [],
   "source": [
    "np.random.seed(2703)\n",
    "index_pair = 0\n",
    "N_REP = 6\n",
    "N_CELLS_REP = 48\n",
    "N_CELLS_I = 100000\n",
    "N_ITER = 100\n",
    "N_MIX = 400\n",
    "N_SAMPLES_LEAF = 5\n",
    "N_TREES = 400\n",
    "FEATURES = ['FL1-H','FL3-H','FSC-H','SSC-H'] \n",
    "PATH_DATA = 'QC_flowAI_CSV/'\n",
    "FILENAMES = sorted(listdir(PATH_DATA))\n",
    "TYPE = 'full'"
   ]
  },
  {
   "cell_type": "markdown",
   "metadata": {},
   "source": [
    "Read-in metadata and annotate labels ('CD' = 1 vs 'HC' = 0): "
   ]
  },
  {
   "cell_type": "code",
   "execution_count": 3,
   "metadata": {},
   "outputs": [],
   "source": [
    "target = pd.read_csv('Metadata_DC.csv', index_col=0, header=0)\n",
    "label_y = 'Health status'\n",
    "le = LabelEncoder()\n",
    "target.loc[:,label_y] = le.fit_transform(target.loc[:,label_y])\n",
    "target.loc[:,label_y] = target.loc[:,label_y].replace({0:1, 1:0})\n",
    "index_healthy = target.loc[target.loc[:,label_y] == 0].index\n",
    "index_cd = target.loc[target.loc[:,label_y] == 1].index"
   ]
  },
  {
   "cell_type": "markdown",
   "metadata": {},
   "source": [
    "Read in genus-table and calculate relative abundances: "
   ]
  },
  {
   "cell_type": "code",
   "execution_count": 4,
   "metadata": {},
   "outputs": [],
   "source": [
    "genus_table = pd.read_table('OTU_tables/GenusAbundance_DiseaseCohort_nature24460.txt', index_col=0, header=0)\n",
    "genus_comp = genus_table.div(genus_table.sum(axis=1), axis=0)\n",
    "genus_comp = genus_comp.loc[target.index,:]"
   ]
  },
  {
   "cell_type": "markdown",
   "metadata": {},
   "source": [
    "Select a pair ('CD' and 'HC') randomly and create a training and test set: "
   ]
  },
  {
   "cell_type": "code",
   "execution_count": 5,
   "metadata": {},
   "outputs": [],
   "source": [
    "rand_arr = np.arange(0,1914,66)\n",
    "arr = np.arange(0,66)\n",
    "arr = np.random.choice(arr,29,False)\n",
    "np.random.shuffle(arr)\n",
    "selected_arr = rand_arr + arr\n",
    "idx = selected_arr[index_pair]\n",
    "list_comb = [x for x in product(np.arange(0,29),np.arange(29,95))]\n",
    "index_test = target.index[[list_comb[idx][0],list_comb[idx][1]]]\n",
    "target_train = target.drop(index_test)\n",
    "target_test = target.loc[index_test,:]"
   ]
  },
  {
   "cell_type": "code",
   "execution_count": 6,
   "metadata": {},
   "outputs": [],
   "source": [
    "df_fcm_train = concat_df(target_train, N_CELLS_REP, PATH_DATA, FILENAMES)\n",
    "df_fcm_train_trans = transform(df_fcm_train, FEATURES)"
   ]
  },
  {
   "cell_type": "markdown",
   "metadata": {},
   "source": [
    "Fit a Gaussian Mixture Model (GMM) to the data and extract a fingerprint per sample: "
   ]
  },
  {
   "cell_type": "code",
   "execution_count": 7,
   "metadata": {},
   "outputs": [],
   "source": [
    "GMM = get_gmm_fitted(df_fcm_train_trans, FEATURES, N_MIX, TYPE, False)\n",
    "fcfp_train = get_fcfp_gmm_rw(target_train, N_REP, N_CELLS_I, N_MIX, FEATURES, GMM, True, PATH_DATA, FILENAMES)\n",
    "fcfp_test = get_fcfp_gmm_rw(target_test, N_REP, N_CELLS_I, N_MIX, FEATURES, GMM, True, PATH_DATA, FILENAMES)"
   ]
  },
  {
   "cell_type": "code",
   "execution_count": 8,
   "metadata": {},
   "outputs": [],
   "source": [
    "FCFP_FEATURES = get_nonzero_features(fcfp_train)"
   ]
  },
  {
   "cell_type": "markdown",
   "metadata": {},
   "source": [
    "Create cross-validation object: "
   ]
  },
  {
   "cell_type": "code",
   "execution_count": 9,
   "metadata": {},
   "outputs": [],
   "source": [
    "cv_object = StratifiedKFold(n_splits=10, shuffle=True)"
   ]
  },
  {
   "cell_type": "markdown",
   "metadata": {},
   "source": [
    "Train Random Forest classifier: "
   ]
  },
  {
   "cell_type": "code",
   "execution_count": 10,
   "metadata": {},
   "outputs": [],
   "source": [
    "RF = get_trained_RF(fcfp_train, target_train.loc[fcfp_train.index,label_y], FCFP_FEATURES, N_TREES, N_SAMPLES_LEAF, N_ITER, cv_object) "
   ]
  },
  {
   "cell_type": "markdown",
   "metadata": {},
   "source": [
    "Predict label of unseen fingerprints: "
   ]
  },
  {
   "cell_type": "code",
   "execution_count": 11,
   "metadata": {},
   "outputs": [
    {
     "name": "stdout",
     "output_type": "stream",
     "text": [
      "            0\n",
      "Individual   \n",
      "DC01        1\n",
      "DC78        0\n",
      "Individual\n",
      "DC01    1\n",
      "DC78    0\n",
      "Name: Health status, dtype: int64\n"
     ]
    }
   ],
   "source": [
    "preds_test = pd.DataFrame(RF.predict(fcfp_test.loc[:,FCFP_FEATURES]), index = fcfp_test.index)\n",
    "print(preds_test)\n",
    "print(target_test.loc[:,'Health status'])"
   ]
  },
  {
   "cell_type": "markdown",
   "metadata": {},
   "source": [
    "Predict the probability of a sample having the label '1' (needed to determine the AUROC):"
   ]
  },
  {
   "cell_type": "code",
   "execution_count": 12,
   "metadata": {},
   "outputs": [
    {
     "name": "stdout",
     "output_type": "stream",
     "text": [
      "            0\n",
      "Individual   \n",
      "DC01        1\n",
      "DC78        0\n",
      "Individual\n",
      "DC01    1\n",
      "DC78    0\n",
      "Name: Health status, dtype: int64\n"
     ]
    }
   ],
   "source": [
    "preds_proba_test = pd.DataFrame(RF.predict_proba(fcfp_test.loc[:,FCFP_FEATURES])[:,1], index = fcfp_test.index)\n",
    "print(preds_test)\n",
    "print(target_test.loc[:,'Health status'])"
   ]
  },
  {
   "cell_type": "markdown",
   "metadata": {},
   "source": [
    "Repeat the same procedure based on Genus abundances. First, create a train and test set:  "
   ]
  },
  {
   "cell_type": "code",
   "execution_count": 13,
   "metadata": {},
   "outputs": [],
   "source": [
    "genus_comp_train = genus_comp.drop(index_test)\n",
    "genus_comp_test = genus_comp.loc[index_test,:]\n",
    "GENERA = list(genus_comp_train.columns)"
   ]
  },
  {
   "cell_type": "markdown",
   "metadata": {},
   "source": [
    "Train a Random Forest classifier: "
   ]
  },
  {
   "cell_type": "code",
   "execution_count": 14,
   "metadata": {},
   "outputs": [],
   "source": [
    "RF = get_trained_RF(genus_comp_train, target_train.loc[genus_comp_train.index,label_y], GENERA, N_TREES, N_SAMPLES_LEAF, N_ITER, cv_object) "
   ]
  },
  {
   "cell_type": "code",
   "execution_count": 15,
   "metadata": {},
   "outputs": [
    {
     "name": "stdout",
     "output_type": "stream",
     "text": [
      "            0\n",
      "Individual   \n",
      "DC01        1\n",
      "DC78        0\n",
      "Individual\n",
      "DC01    1\n",
      "DC78    0\n",
      "Name: Health status, dtype: int64\n"
     ]
    }
   ],
   "source": [
    "preds_test = pd.DataFrame(RF.predict(genus_comp_test.loc[:,GENERA]), index = genus_comp_test.index)\n",
    "print(preds_test)\n",
    "print(target_test.loc[:,'Health status'])"
   ]
  },
  {
   "cell_type": "code",
   "execution_count": 16,
   "metadata": {},
   "outputs": [
    {
     "name": "stdout",
     "output_type": "stream",
     "text": [
      "            0\n",
      "Individual   \n",
      "DC01        1\n",
      "DC78        0\n",
      "Individual\n",
      "DC01    1\n",
      "DC78    0\n",
      "Name: Health status, dtype: int64\n"
     ]
    }
   ],
   "source": [
    "preds_proba_test = pd.DataFrame(RF.predict_proba(genus_comp_test.loc[:,GENERA])[:,1], index = genus_comp_test.index)\n",
    "print(preds_test)\n",
    "print(target_test.loc[:,'Health status'])"
   ]
  }
 ],
 "metadata": {
  "kernelspec": {
   "display_name": "Python 3",
   "language": "python",
   "name": "python3"
  },
  "language_info": {
   "codemirror_mode": {
    "name": "ipython",
    "version": 3
   },
   "file_extension": ".py",
   "mimetype": "text/x-python",
   "name": "python",
   "nbconvert_exporter": "python",
   "pygments_lexer": "ipython3",
   "version": "3.6.8"
  }
 },
 "nbformat": 4,
 "nbformat_minor": 2
}
